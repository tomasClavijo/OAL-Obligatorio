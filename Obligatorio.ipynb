{
  "cells": [
    {
      "cell_type": "markdown",
      "source": [
        "**Abastecimiento de demanda sobre red de transporte**\n",
        "\n",
        "Grupo:\n",
        "\n",
        "Tomás Clavijo - 235426 \\\\\n",
        "Rafael Núñez - 262843 \\\\\n",
        "Martin Bernheim - 209600 \\\\"
      ],
      "metadata": {
        "id": "CUUH9jj0p7BZ"
      }
    },
    {
      "cell_type": "markdown",
      "source": [
        "a:"
      ],
      "metadata": {
        "id": "wTOXb2napapU"
      }
    },
    {
      "cell_type": "markdown",
      "metadata": {
        "id": "Fd-fDwc0z1cR"
      },
      "source": [
        "**Expresar como programación lineal el problema de abastecer la demanda con costo mínimo y en forma consistente con las restricciones. Identificar el vector de variables, y expresar las restricciones de igualdad y desigualdad.**\n",
        "\n",
        "\\\\\n",
        "\n",
        "Para poder expresar el problema como uno de programación lineal tenemos que\n",
        "\n",
        "buscar una función de costos a minimizar/maximizar.\n",
        "\n",
        "$$ min\\ costo = min \\sum_{i=1}^{6} c_{i}p_{i} = min\\  C^{T}X $$\n",
        "\n",
        "Dado 6 nodos, llamaremos i-nodo a un nodo genérico.\n",
        "\n",
        "\n",
        "\n",
        "Cada nodo cuenta con:\n",
        "* pi, cuánto produce, esta será la variable a optimizar. Cada nodo pi puede tener un max.\n",
        "\n",
        "* di, di >=0 una demanda a satisfacer.\n",
        "\n",
        "* yij, El costo de trasladar de i a j\n",
        "\n",
        "\\\\\n",
        "\n",
        "El vector X contiene todas las variables a optimizar, siendo pi cuánto se puede producir en un nodo.\n",
        "\\begin{bmatrix}\n",
        "p_{1} & p_{2} & p_{3} & p_{4} & p_{5} & p_{6}\\\\\n",
        "\\end{bmatrix}\n",
        "Y además cuánto es lo que se traslada\n",
        "\\begin{bmatrix}\n",
        "p_{1} & p_{2} & p_{3} & p_{4} & p_{5} & p_{6} & | & y_{12} & y_{23} & y_{34} & y_{45} & y_{56} & y_{61}\\\\\n",
        "\\end{bmatrix}\n",
        "\n",
        "\\\\\n",
        "\n",
        "El vector C contiene los costos de producción en un nodo.\n",
        "\\begin{bmatrix}\n",
        "c_{1} & c_{2} & c_{3} & c_{4} & c_{5} & c_{6}\\\\\n",
        "\\end{bmatrix}\n",
        "Y además lo que cuesta trasladar (cy).\n",
        "\\begin{bmatrix}\n",
        "c_{1} & c_{2} & c_{3} & c_{4} & c_{5} & c_{6} & | & cy_{12} & cy_{23} & cy_{34} & cy_{45} & cy_{56} & cy_{61}\\\\\n",
        "\\end{bmatrix}\n",
        "\n",
        "\\begin{bmatrix}\n",
        "1 & 0 & 3 & 0 & 0 & 0 & | & 0 & 0 & 0 & 0 & 0 & 0\\\\\n",
        "\\end{bmatrix}\n",
        "\n",
        "\\\\\n",
        "\n",
        "La producción debe ser igual a la demanda.\n",
        "$$ p_{1} = d_{1} $$\n",
        "$$ \\text{Lo que produce el nodo 1 = Lo que demanda el nodo 1 }$$\n",
        "\n",
        "Se nos habla de que cada nodo tiene \"flujo de balance\", por lo que todo lo que entra debe ser igual a lo que sale.\n",
        "\n",
        "Buscamos que lo producido más lo que se importa sea igual a la demanda más lo que exporta.\n",
        "\n",
        "$$ st $$\n",
        "\n",
        "$$ Nodo \\ 1: p_{1} + y_{61} = y_{12} + d_{1} $$\n",
        "$$ \\text{Lo que produce el nodo 1 + lo que viene del nodo 6 = Lo que envia al nodo 2 + la demanda que exige }$$\n",
        "$$ \\overline{-y_{12}} \\leqslant  y_{12} \\leqslant \\overline{y_{12}} $$\n",
        "$$ 0 \\leqslant  p_{1} \\leqslant \\overline{p_{1}} $$\n",
        "\n",
        "$$ Nodo \\ 2: p_{2} + y_{12} = y_{23} + d_{2} $$\n",
        "$$ \\overline{-y_{23}} \\leqslant  y_{23} \\leqslant \\overline{y_{23}} $$\n",
        "$$ 0 \\leqslant  p_{2} \\leqslant \\overline{p_{2}} $$\n",
        "\n",
        "$$ Nodo \\ 3: p_{3} + y_{23} = y_{34} + d_{3} $$\n",
        "$$ \\overline{-y_{34}} \\leqslant  y_{34} \\leqslant \\overline{y_{34}} $$\n",
        "$$ 0 \\leqslant  p_{3} \\leqslant \\overline{p_{3}} $$\n",
        "\n",
        "$$ Nodo \\ 4: p_{4} + y_{34} = y_{45} + d_{4} $$\n",
        "$$ \\overline{-y_{45}} \\leqslant  y_{45} \\leqslant \\overline{y_{45}} $$\n",
        "$$ 0 \\leqslant  p_{4} \\leqslant \\overline{p_{4}} $$\n",
        "\n",
        "$$ Nodo \\ 5: p_{5} + y_{45} = y_{56} + d_{5} $$\n",
        "$$ \\overline{-y_{56}} \\leqslant  y_{56} \\leqslant \\overline{y_{56}} $$\n",
        "$$ 0 \\leqslant  p_{5} \\leqslant \\overline{p_{5}} $$\n",
        "\n",
        "$$ Nodo \\ 6: p_{6} + y_{56} = y_{61} + d_{6} $$\n",
        "$$ \\overline{-y_{61}} \\leqslant  y_{61} \\leqslant \\overline{y_{61}} $$\n",
        "$$ 0 \\leqslant  p_{6} \\leqslant \\overline{p_{6}} $$\n"
      ]
    },
    {
      "cell_type": "code",
      "execution_count": null,
      "metadata": {
        "colab": {
          "base_uri": "https://localhost:8080/"
        },
        "id": "9ROzKpaZxd9z",
        "outputId": "c51580ff-c35b-4ead-b495-b1d9e4d00ecb"
      },
      "outputs": [
        {
          "output_type": "stream",
          "name": "stdout",
          "text": [
            "Solvers instalados:  ['CVXOPT', 'ECOS', 'ECOS_BB', 'GLPK', 'GLPK_MI', 'OSQP', 'SCIPY', 'SCS']\n"
          ]
        }
      ],
      "source": [
        "import cvxpy as cp\n",
        "import numpy as np\n",
        "import matplotlib.pyplot as plt\n",
        "print(\"Solvers instalados: \",cp.installed_solvers())"
      ]
    },
    {
      "cell_type": "markdown",
      "source": [
        "b:"
      ],
      "metadata": {
        "id": "XbJAwuAhmRJR"
      }
    },
    {
      "cell_type": "code",
      "execution_count": null,
      "metadata": {
        "colab": {
          "base_uri": "https://localhost:8080/"
        },
        "id": "AHFYx6ybyt0c",
        "outputId": "8a51ccb2-5ae8-47d5-b1ac-19caf348a980"
      },
      "outputs": [
        {
          "output_type": "stream",
          "name": "stdout",
          "text": [
            "El nodo 1 produce 120.0 y el nodo 3 produce 0.0, el resto por letra no producen\n",
            "La cantidad de exportados (positivos) o importados (negativos)\n",
            "Del 1 al 2: 60.0\n",
            "Del 2 al 3: 36.0\n",
            "Del 3 al 4: 12.0\n",
            "Del 4 al 5: -12.0\n",
            "Del 5 al 6: -36.0\n",
            "Del 6 al 1: -60.0\n",
            "El costo resultante es $120.0\n",
            "Los datos en forma vectorial: [120.   0.   0.   0.   0.   0.  60.  36.  12. -12. -36. -60.]\n"
          ]
        }
      ],
      "source": [
        "x = cp.Variable(12) # Definimos vector de variables\n",
        "# x va a tener nuestras variables a optimizar p1, p2, p3... y12, y23, ...y61\n",
        "\n",
        "# Costos de los nodos ([1, 2, 3, 4, 5, 6])\n",
        "# Para nuestro problema nos asignaron costos 1 y 3 para los nodos 1 y 3 respectivamente, el resto no producen.\n",
        "\n",
        "# El vector c tiene los costos de los nodos 1 y 3 y el resto en 0.\n",
        "c = np.array([1.0 , 0.0 ,3.0, 0.0, 0.0, 0.0, 0.0, 0.0, 0.0, 0.0, 0.0, 0.0])\n",
        "objective = cp.Minimize(c.T @ x)\n",
        "\n",
        "# Ponemos las restricciones de igualdad en la matriz A\n",
        "# Como vimos, en el nodo1: p1 + y61 = y12 + d1\n",
        "# Entonces, p1 + y61 - y12 = d1\n",
        "# Entonces, la demanda deberá ser igual a lo que se produce más lo que se recibe menos lo que se exporta\n",
        "# Haciendo eso con todos los nodos llegamos a la matriz A (Esto es por el balance de flujos)\n",
        "A = np.matrix([[1,0,0,0,0,0,-1,0,0,0,0,1] , #p1 + y61 - y12\n",
        "               [0,1,0,0,0,0,1,-1,0,0,0,0] , #p2 + y12 - y23\n",
        "               [0,0,1,0,0,0,0,1,-1,0,0,0] , #p3 + y23 - y34\n",
        "               [0,0,0,1,0,0,0,0,1,-1,0,0] , #p4 + y34 - y45\n",
        "               [0,0,0,0,1,0,0,0,0,1,-1,0] , #p5 + y45 - y56\n",
        "               [0,0,0,0,0,1,0,0,0,0,1,-1]]) #p6 + y56 - y61\n",
        "\n",
        "# Nuestras demandas, d0, ytope, etc. los cambiamos a gusto\n",
        "d1 = 0\n",
        "d0 = 24 #40 ES EL LIMITE, lo encontramos tanteando\n",
        "d2 = d3 = d4 = d5 = d6 = d0\n",
        "b = np.array([d1, d2, d3, d4, d5, d6]) # vector b\n",
        "ytope = 60\n",
        "constraints = [A @ x == b,      # Igualdades\n",
        "               x[0] >= 0,       # p1 >= 0\n",
        "               x[1] == 0,       # p2 == 0\n",
        "               x[2] >= 0,       # p3 >= 0\n",
        "               x[3] == 0,       # p4 == 0\n",
        "               x[4] == 0,       # p5 == 0\n",
        "               x[5] == 0,       # p6 == 0\n",
        "               # x[0] <= 100,   # p1 <= 100  esto es para la parte (d) y (g)\n",
        "               # p2, p4, p5, p6 no pueden producir, deben valer 0, no tendremos maximo no minimo\n",
        "               # p3 no tiene un limite maximo de produccion, solo el minimo (se puso un par de lineas arriba)\n",
        "               x[6] >= -ytope,  # y12 >= -tope\n",
        "               x[7] >= -ytope,  # y23 >= -tope\n",
        "               x[8] >= -ytope,  # y34 >= -tope\n",
        "               x[9] >= -ytope,  # y45 >= -tope\n",
        "               x[10] >= -ytope, # y56 >= -tope\n",
        "               x[11] >= -ytope, # y61 >= -tope\n",
        "               x[6] <= ytope, # y12 <= tope\n",
        "               x[7] <= ytope, # y23 <= tope\n",
        "               x[8] <= ytope, # y34 <= tope\n",
        "               x[9] <= ytope, # y45 <= tope\n",
        "               x[10] <= ytope,# y56 <= tope\n",
        "               x[11] <= ytope # y61 <= tope\n",
        "               ]\n",
        "\n",
        "# Creacion del OBJETO problema\n",
        "prob = cp.Problem(objective, constraints)\n",
        "\n",
        "# Solucion del problema\n",
        "# valor de la funcion objetivo, el vector solucion esta en \"x.value\".\n",
        "# Le pasamos como parametro \"GLPK\" para que use ese solver.\n",
        "result = prob.solve(solver = 'GLPK')\n",
        "\n",
        "print(f\"El nodo 1 produce {x.value[0]} y el nodo 3 produce {x.value[2]}, el resto por letra no producen\")\n",
        "print(\"La cantidad de exportados (positivos) o importados (negativos)\")\n",
        "print(f\"Del 1 al 2: {x.value[6]}\")\n",
        "print(f\"Del 2 al 3: {x.value[7]}\")\n",
        "print(f\"Del 3 al 4: {x.value[8]}\")\n",
        "print(f\"Del 4 al 5: {x.value[9]}\")\n",
        "print(f\"Del 5 al 6: {x.value[10]}\")\n",
        "print(f\"Del 6 al 1: {x.value[11]}\")\n",
        "print(f\"El costo resultante es ${result}\")\n",
        "print(f\"Los datos en forma vectorial: {x.value}\")"
      ]
    },
    {
      "cell_type": "markdown",
      "metadata": {
        "id": "7rYvLpNgqKI5"
      },
      "source": [
        "c:"
      ]
    },
    {
      "cell_type": "markdown",
      "metadata": {
        "id": "aK-rG5hkrLsB"
      },
      "source": [
        "Hay que averiguar cuál es el d0 máximo. A base de prueba y error, fuimos cambiando el valor de d0 hasta que nos de un error (resultado infinito), verificando así que el máximo d0 factible es 40."
      ]
    },
    {
      "cell_type": "code",
      "execution_count": null,
      "metadata": {
        "colab": {
          "base_uri": "https://localhost:8080/",
          "height": 447
        },
        "id": "syT1j5s9LHMg",
        "outputId": "425256c5-09e4-4d8a-d170-7954d5beacdc"
      },
      "outputs": [
        {
          "output_type": "execute_result",
          "data": {
            "text/plain": [
              "[<matplotlib.lines.Line2D at 0x7f3790718df0>]"
            ]
          },
          "metadata": {},
          "execution_count": 3
        },
        {
          "output_type": "display_data",
          "data": {
            "text/plain": [
              "<Figure size 640x480 with 1 Axes>"
            ],
            "image/png": "[encoded data removed]"
          },
          "metadata": {}
        }
      ],
      "source": [
        "A = np.matrix([[1,0,0,0,0,0,-1,0,0,0,0,1],\n",
        "               [0,1,0,0,0,0,1,-1,0,0,0,0],\n",
        "               [0,0,1,0,0,0,0,1,-1,0,0,0],\n",
        "               [0,0,0,1,0,0,0,0,1,-1,0,0],\n",
        "               [0,0,0,0,1,0,0,0,0,1,-1,0],\n",
        "               [0,0,0,0,0,1,0,0,0,0,1,-1]])\n",
        "\n",
        "ejex =[]\n",
        "ejey =[]\n",
        "\n",
        "for d0 in range(41):\n",
        "  d1 = 0\n",
        "  d2 = d3 = d4 = d5 = d6 = d0\n",
        "  b = np.array([d1, d2, d3, d4, d5, d6])\n",
        "  ytope = 60\n",
        "  constraints = [A @ x == b,\n",
        "                 x[0] >= 0,\n",
        "                 x[1] == 0,\n",
        "                 x[2] >= 0,\n",
        "                 x[3] == 0,\n",
        "                 x[4] == 0,\n",
        "                 x[5] == 0,\n",
        "                 #-x[0] >= -100,   # p1 <= 100\n",
        "                 # p2, p4, p5, p6 no pueden producir, deben valer 0, no tendremos maximo no minimo\n",
        "                 x[6] >= -ytope,\n",
        "                 x[7] >= -ytope,\n",
        "                 x[8] >= -ytope,\n",
        "                 x[9] >= -ytope,\n",
        "                 x[10] >= -ytope,\n",
        "                 x[11] >= -ytope,\n",
        "                 x[6] <= ytope,\n",
        "                 x[7] <= ytope,\n",
        "                 x[8] <= ytope,\n",
        "                 x[9] <= ytope,\n",
        "                 x[10] <= ytope,\n",
        "                 x[11] <= ytope\n",
        "               ]\n",
        "\n",
        "  prob = cp.Problem(objective, constraints)\n",
        "  result = prob.solve(solver = 'GLPK')\n",
        "  ejex.append(d0)\n",
        "  ejey.append(result)\n",
        "\n",
        "plt.plot(ejex, ejey)"
      ]
    },
    {
      "cell_type": "markdown",
      "metadata": {
        "id": "gFWVoR2MPz4I"
      },
      "source": [
        "Supongamos que a partir de una demanda de 24 en todos los nodos (excepto el nodo 1), no es posible abastecer a todos los nodos únicamente con la producción del nodo 1. Cabe recordar que es más económico producir en el nodo 1 que en el nodo 3, por lo tanto, produciremos únicamente en el primer nodo hasta que no podamos \"exportar\" los productos del mismo. Este punto se alcanza cuando ambas líneas tienen un total de 60 productos saliendo del nodo 1, lo que equivale a una producción total de 120 productos en dicho nodo. Debido a esta limitación, necesitamos satisfacer la demanda con productos provenientes del nodo 3, los cuales tienen un mayor costo de producción. Esto resulta en un incremento en la pendiente de la gráfica a partir del valor 24.\n",
        "\n",
        "A continuación, se presentan ejemplos de resultados que respaldan esta afirmación:\n",
        "\n",
        "Para una demanda inicial (d0) de 24, se obtiene el siguiente vector de producción: [120. 0. 0. 0. 0. 0. 60. 36. 12. -12. -36. -60.]. Esto indica que se produjeron los 120 productos en el nodo 1.\n",
        "\n",
        "Para una demanda inicial (d0) de 25, se obtiene el siguiente vector de producción: [120. 0. 5. 0. 0. 0. 60. 35. 15. -10. -35. -60.]. En este caso, se produjeron los 120 productos en el nodo 1, pero no se generaron más debido a la imposibilidad de \"exportarlos\". El resto de los productos necesarios se produjeron en el nodo 3.\n",
        "\n",
        "\n",
        "\n",
        "\n"
      ]
    },
    {
      "cell_type": "markdown",
      "metadata": {
        "id": "p3-m2Zd8qRBM"
      },
      "source": [
        "d:"
      ]
    },
    {
      "cell_type": "code",
      "execution_count": null,
      "metadata": {
        "colab": {
          "base_uri": "https://localhost:8080/",
          "height": 447
        },
        "id": "xWro8rJWTzTU",
        "outputId": "67047f02-0189-4300-bdfd-2d5bd66f49fa"
      },
      "outputs": [
        {
          "output_type": "execute_result",
          "data": {
            "text/plain": [
              "[<matplotlib.lines.Line2D at 0x7f37908ec3d0>]"
            ]
          },
          "metadata": {},
          "execution_count": 4
        },
        {
          "output_type": "display_data",
          "data": {
            "text/plain": [
              "<Figure size 640x480 with 1 Axes>"
            ],
            "image/png": "[encoded data removed]"
          },
          "metadata": {}
        }
      ],
      "source": [
        "A = np.matrix([[1,0,0,0,0,0,-1,0,0,0,0,1],\n",
        "               [0,1,0,0,0,0,1,-1,0,0,0,0],\n",
        "               [0,0,1,0,0,0,0,1,-1,0,0,0],\n",
        "               [0,0,0,1,0,0,0,0,1,-1,0,0],\n",
        "               [0,0,0,0,1,0,0,0,0,1,-1,0],\n",
        "               [0,0,0,0,0,1,0,0,0,0,1,-1]])\n",
        "\n",
        "ejex =[]\n",
        "ejey =[]\n",
        "\n",
        "for d0 in range(41):\n",
        "  d1 = 0\n",
        "  d2 = d3 = d4 = d5 = d6 = d0\n",
        "  b = np.array([d1, d2, d3, d4, d5, d6])\n",
        "  ytope = 60\n",
        "  constraints = [A @ x == b,\n",
        "                 x[0] >= 0,\n",
        "                 x[1] == 0,\n",
        "                 x[2] >= 0,\n",
        "                 x[3] == 0,\n",
        "                 x[4] == 0,\n",
        "                 x[5] == 0,\n",
        "                 x[0] <= 100,\n",
        "                 # p2, p4, p5, p6 no pueden producir, deben valer 0\n",
        "                 # p3 no tiene un limite maximo de produccion, solo el minimo (se puso un par de lineas arriba)\n",
        "                 x[6] >= -ytope,\n",
        "                 x[7] >= -ytope,\n",
        "                 x[8] >= -ytope,\n",
        "                 x[9] >= -ytope,\n",
        "                 x[10] >= -ytope,\n",
        "                 x[11] >= -ytope,\n",
        "                 x[6] <= ytope,\n",
        "                 x[7] <= ytope,\n",
        "                 x[8] <= ytope,\n",
        "                 x[9] <= ytope,\n",
        "                 x[10] <= ytope,\n",
        "                 x[11] <= ytope\n",
        "               ]\n",
        "\n",
        "\n",
        "  prob = cp.Problem(objective, constraints)\n",
        "  result = prob.solve(solver = 'GLPK')\n",
        "  ejex.append(d0)\n",
        "  ejey.append(result)\n",
        "\n",
        "plt.plot(ejex, ejey)"
      ]
    },
    {
      "cell_type": "markdown",
      "metadata": {
        "id": "S1tau7IPsCLN"
      },
      "source": [
        "Vemos que lo que antes sucedía cuando d0 valía 24, ahora sucede cuando vale 20. Tiene sentido, baja la cantidad máxima de productos que puede producir el nodo 1 (antes no había limite, ahora puede producir hasta 100), por lo que se deberá comenzar a producir en el nodo 3 antes."
      ]
    },
    {
      "cell_type": "markdown",
      "metadata": {
        "id": "89HxpuwRqfM6"
      },
      "source": [
        "e:"
      ]
    },
    {
      "cell_type": "code",
      "execution_count": null,
      "metadata": {
        "colab": {
          "base_uri": "https://localhost:8080/"
        },
        "id": "74CkEE0jU06k",
        "outputId": "a5aa813d-594e-44e6-f0ee-cc629426559b"
      },
      "outputs": [
        {
          "output_type": "stream",
          "name": "stdout",
          "text": [
            "El nodo 1 produce 120.0 y el nodo 3 produce 80.0, el resto por letra no producen\n",
            "La cantidad de exportados (positivos) o importados (negativos)\n",
            "Del 1 al 2: 60.0\n",
            "Del 2 al 3: 20.0\n",
            "Del 3 al 4: 60.0\n",
            "Del 4 al 5: 20.0\n",
            "Del 5 al 6: -20.0\n",
            "Del 6 al 1: -60.0\n",
            "Del puente nuevo: 0.0\n",
            "El costo resultante es $360.0\n",
            "Los datos en forma vectorial: [120.   0.  80.   0.   0.   0.  60.  20.  60.  20. -20. -60.   0.]\n"
          ]
        }
      ],
      "source": [
        "x = cp.Variable(13)\n",
        "c = np.array([1.0 , 0.0 ,3.0, 0.0, 0.0, 0.0, 0.0, 0.0, 0.0, 0.0, 0.0, 0.0, 0.0])\n",
        "objective = cp.Minimize(c.T @ x)\n",
        "\n",
        "A = np.matrix([[1,0,0,0,0,0,-1,0,0,0,0,1,0] ,\n",
        "               [0,1,0,0,0,0,1,-1,0,0,0,0,0],\n",
        "               [0,0,1,0,0,0,0,1,-1,0,0,0,0] ,\n",
        "               [0,0,0,1,0,0,0,0,1,-1,0,0,-1] ,\n",
        "               [0,0,0,0,1,0,0,0,0,1,-1,0,0] ,\n",
        "               [0,0,0,0,0,1,0,0,0,0,1,-1,1]])\n",
        "\n",
        "d1 = 0\n",
        "d0 = 40\n",
        "d2 = d3 = d4 = d5 = d6 = d0\n",
        "b = np.array([d1, d2, d3, d4, d5, d6])\n",
        "ytope = 60\n",
        "constraints = [A @ x == b,\n",
        "               x[0] >= 0,\n",
        "               x[1] == 0,\n",
        "               x[2] >= 0,\n",
        "               x[3] == 0,\n",
        "               x[4] == 0,\n",
        "               x[5] == 0,\n",
        "               #-x[0] >= -100,   # p1 <= 100 (la letra dice eliminarla)\n",
        "               # p2, p4, p5, p6 no pueden producir, deben valer 0, no tendremos maximo no minimo\n",
        "               x[6] >= -ytope,\n",
        "               x[7] >= -ytope,\n",
        "               x[8] >= -ytope,\n",
        "               x[9] >= -ytope,\n",
        "               x[10] >= -ytope,\n",
        "               x[11] >= -ytope,\n",
        "               x[6] <= ytope,\n",
        "               x[7] <= ytope,\n",
        "               x[8] <= ytope,\n",
        "               x[9] <= ytope,\n",
        "               x[10] <= ytope,\n",
        "               x[11] <= ytope,\n",
        "\n",
        "               x[12] <= ytope,\n",
        "               x[12] >= -ytope\n",
        "               ]\n",
        "\n",
        "prob = cp.Problem(objective, constraints)\n",
        "result = prob.solve(solver = 'GLPK')\n",
        "\n",
        "print(f\"El nodo 1 produce {x.value[0]} y el nodo 3 produce {x.value[2]}, el resto por letra no producen\")\n",
        "print(\"La cantidad de exportados (positivos) o importados (negativos)\")\n",
        "print(f\"Del 1 al 2: {x.value[6]}\")\n",
        "print(f\"Del 2 al 3: {x.value[7]}\")\n",
        "print(f\"Del 3 al 4: {x.value[8]}\")\n",
        "print(f\"Del 4 al 5: {x.value[9]}\")\n",
        "print(f\"Del 5 al 6: {x.value[10]}\")\n",
        "print(f\"Del 6 al 1: {x.value[11]}\")\n",
        "print(f\"Del puente nuevo: {x.value[12]}\")\n",
        "print(f\"El costo resultante es ${result}\")\n",
        "print(f\"Los datos en forma vectorial: {x.value}\")"
      ]
    },
    {
      "cell_type": "markdown",
      "metadata": {
        "id": "t8OxPk0avQfV"
      },
      "source": [
        "Probando todos los puentes posibles (recordemos que son bidireccionales) podemos ver cual es el mejor para poner y optimizar."
      ]
    },
    {
      "cell_type": "markdown",
      "metadata": {
        "id": "R5PDkktecUMZ"
      },
      "source": [
        "Puente\n",
        "\n",
        " Desde | Hasta | d max | costo | uso   \n",
        " ----- | ----- | ----- | ----- | -----\n",
        "1     | 3     | 40    | 240   | 60   \n",
        "1     | 4     | 60   | 540  | 60   \n",
        " 1     | 5     | 60   | 540  | 60   \n",
        " 2     | 4     | 60   | 660  | 60   \n",
        "2     | 5     | 60   | 660  | 60   \n",
        " 2     | 6     | 60   | 660  | 60   \n",
        " 3     | 5     | 60   | 660  | 60\n",
        " 3     | 6     | 60   | 660  | 60\n",
        "4     | 6     | 40    | 360  | 0     "
      ]
    },
    {
      "cell_type": "markdown",
      "metadata": {
        "id": "BTiQd_53dDBD"
      },
      "source": [
        "Nos conviene poner un puente desde (1,4) o (1,5). Que envian lo producido en 1 a 4 y 5. Que no dependeran de 3"
      ]
    },
    {
      "cell_type": "markdown",
      "metadata": {
        "id": "mRP5MeqHvkqq"
      },
      "source": [
        "f:"
      ]
    },
    {
      "cell_type": "code",
      "execution_count": null,
      "metadata": {
        "colab": {
          "base_uri": "https://localhost:8080/",
          "height": 450
        },
        "id": "loy5LdTvd3Q7",
        "outputId": "b17563d7-ed7f-4781-e668-193e2ff9a7f0"
      },
      "outputs": [
        {
          "output_type": "execute_result",
          "data": {
            "text/plain": [
              "[<matplotlib.lines.Line2D at 0x7f3790504a00>]"
            ]
          },
          "metadata": {},
          "execution_count": 6
        },
        {
          "output_type": "display_data",
          "data": {
            "text/plain": [
              "<Figure size 640x480 with 1 Axes>"
            ],
            "image/png": "[encoded data removed]"
          },
          "metadata": {}
        }
      ],
      "source": [
        "x = cp.Variable(13)\n",
        "\n",
        "c = np.array([1.0 , 0.0 ,3.0, 0.0, 0.0, 0.0, 0.0, 0.0, 0.0, 0.0, 0.0, 0.0, 0.0])\n",
        "objective = cp.Minimize(c.T @ x)\n",
        "\n",
        "A = np.matrix([[1,0,0,0,0,0,-1,0,0,0,0,1,-1],\n",
        "               [0,1,0,0,0,0,1,-1,0,0,0,0,0],\n",
        "               [0,0,1,0,0,0,0,1,-1,0,0,0,0],\n",
        "               [0,0,0,1,0,0,0,0,1,-1,0,0,0],\n",
        "               [0,0,0,0,1,0,0,0,0,1,-1,0,1],\n",
        "               [0,0,0,0,0,1,0,0,0,0,1,-1,0]])\n",
        "\n",
        "ejex =[]\n",
        "ejey =[]\n",
        "\n",
        "for d0 in range(41):\n",
        "  d1 = 0\n",
        "  d2 = d3 = d4 = d5 = d6 = d0\n",
        "  b = np.array([d1, d2, d3, d4, d5, d6])\n",
        "  ytope = 60\n",
        "  constraints = [A @ x == b,\n",
        "               x[0] >= 0,\n",
        "               x[1] == 0,\n",
        "               x[2] >= 0,\n",
        "               x[3] == 0,\n",
        "               x[4] == 0,\n",
        "               x[5] == 0,\n",
        "               # -x[0] >= -100,   # p1 <= 100\n",
        "               # p2, p4, p5, p6 no pueden producir, deben valer 0.\n",
        "               x[6] >= -ytope,\n",
        "               x[7] >= -ytope,\n",
        "               x[8] >= -ytope,\n",
        "               x[9] >= -ytope,\n",
        "               x[10] >= -ytope,\n",
        "               x[11] >= -ytope,\n",
        "               x[6] <= ytope,\n",
        "               x[7] <= ytope,\n",
        "               x[8] <= ytope,\n",
        "               x[9] <= ytope,\n",
        "               x[10] <= ytope,\n",
        "               x[11] <= ytope,\n",
        "               # Restricciones del puente nuevo\n",
        "               x[12] <= ytope,\n",
        "               x[12] >= -ytope\n",
        "               ]\n",
        "\n",
        "\n",
        "  prob = cp.Problem(objective, constraints)\n",
        "  result = prob.solve(solver = 'GLPK')\n",
        "  ejex.append(d0)\n",
        "  ejey.append(result)\n",
        "\n",
        "plt.plot(ejex, ejey)"
      ]
    },
    {
      "cell_type": "markdown",
      "metadata": {
        "id": "2AaKA8jJfask"
      },
      "source": [
        "g:"
      ]
    },
    {
      "cell_type": "code",
      "execution_count": null,
      "metadata": {
        "colab": {
          "base_uri": "https://localhost:8080/"
        },
        "id": "4StpcyeNdI3_",
        "outputId": "9a6e945b-7a8e-4963-aa6a-9c71c06682ab"
      },
      "outputs": [
        {
          "output_type": "stream",
          "name": "stdout",
          "text": [
            "El nodo 1 produce 100.0 y el nodo 3 produce 200.0, el resto por letra no producen\n",
            "La cantidad de exportados (positivos) o importados (negativos)\n",
            "Del 1 al 2: 40.0\n",
            "Del 2 al 3: -20.0\n",
            "Del 3 al 4: 60.0\n",
            "Del 4 al 5: 0.0\n",
            "Del 5 al 6: 0.0\n",
            "Del 6 al 1: -60.0\n",
            "Del puente nuevo: 60.0\n",
            "El costo resultante es $700.0\n",
            "Los datos en forma vectorial: [100.   0. 200.   0.   0.   0.  40. -20.  60.   0.   0. -60.  60.]\n"
          ]
        }
      ],
      "source": [
        "x = cp.Variable(13)\n",
        "\n",
        "c = np.array([1.0 , 0.0 ,3.0, 0.0, 0.0, 0.0, 0.0, 0.0, 0.0, 0.0, 0.0, 0.0, 0.0])\n",
        "objective = cp.Minimize(c.T @ x)\n",
        "\n",
        "A = np.matrix([[1,0,0,0,0,0,-1,0,0,0,0,1,0] ,\n",
        "               [0,1,0,0,0,0,1,-1,0,0,0,0,0],\n",
        "               [0,0,1,0,0,0,0,1,-1,0,0,0,-1] ,\n",
        "               [0,0,0,1,0,0,0,0,1,-1,0,0,0] ,\n",
        "               [0,0,0,0,1,0,0,0,0,1,-1,0,1] ,\n",
        "               [0,0,0,0,0,1,0,0,0,0,1,-1,0]])\n",
        "\n",
        "d1 = 0\n",
        "d0 = 60\n",
        "d2 = d3 = d4 = d5 = d6 = d0\n",
        "b = np.array([d1, d2, d3, d4, d5, d6])\n",
        "ytope = 60\n",
        "constraints = [A @ x == b,\n",
        "               x[0] >= 0,\n",
        "               x[1] == 0,\n",
        "               x[2] >= 0,\n",
        "               x[3] == 0,\n",
        "               x[4] == 0,\n",
        "               x[5] == 0,\n",
        "               -x[0] >= -100,   # p1 <= 100\n",
        "               # p2, p4, p5, p6 no pueden producir, deben valer 0.\n",
        "               x[6] >= -ytope,\n",
        "               x[7] >= -ytope,\n",
        "               x[8] >= -ytope,\n",
        "               x[9] >= -ytope,\n",
        "               x[10] >= -ytope,\n",
        "               x[11] >= -ytope,\n",
        "               x[6] <= ytope,\n",
        "               x[7] <= ytope,\n",
        "               x[8] <= ytope,\n",
        "               x[9] <= ytope,\n",
        "               x[10] <= ytope,\n",
        "               x[11] <= ytope,\n",
        "               # Restricciones del puente nuevo\n",
        "               x[12] <= ytope,\n",
        "               x[12] >= -ytope\n",
        "               ]\n",
        "\n",
        "prob = cp.Problem(objective, constraints)\n",
        "result = prob.solve(solver = 'GLPK')\n",
        "\n",
        "print(f\"El nodo 1 produce {x.value[0]} y el nodo 3 produce {x.value[2]}, el resto por letra no producen\")\n",
        "print(\"La cantidad de exportados (positivos) o importados (negativos)\")\n",
        "print(f\"Del 1 al 2: {x.value[6]}\")\n",
        "print(f\"Del 2 al 3: {x.value[7]}\")\n",
        "print(f\"Del 3 al 4: {x.value[8]}\")\n",
        "print(f\"Del 4 al 5: {x.value[9]}\")\n",
        "print(f\"Del 5 al 6: {x.value[10]}\")\n",
        "print(f\"Del 6 al 1: {x.value[11]}\")\n",
        "print(f\"Del puente nuevo: {x.value[12]}\")\n",
        "print(f\"El costo resultante es ${result}\")\n",
        "print(f\"Los datos en forma vectorial: {x.value}\")"
      ]
    },
    {
      "cell_type": "markdown",
      "metadata": {
        "id": "UpDkMKGM0MBJ"
      },
      "source": [
        "Probando todos los puentes posibles llegamos a los siguientes valores:"
      ]
    },
    {
      "cell_type": "markdown",
      "metadata": {
        "id": "5KIXPxK4g69z"
      },
      "source": [
        "| Desde | Hasta | d max | costo | uso   |\n",
        "| ----- | ----- | ----- | ----- | ----- |\n",
        "| 1     | 3     | 40    | 400  | 0  |\n",
        "| 1     | 4     | 55    | 625  | 45    |\n",
        "| 1     | 5     | 55    | 625  | 45    |\n",
        "| 2     | 4     | 55    | 625  | 50    |\n",
        "| 2     | 5     | 55    | 625  | 50    |\n",
        "| 2     | 6     | 55    | 625  | 50  |\n",
        "| 3     | 5     | 60   | 700  | 60 |\n",
        "| 3     | 6     | 60   | 700  | 60 |\n",
        "| 4     | 6     | 40    | 400  | 0 |"
      ]
    },
    {
      "cell_type": "markdown",
      "metadata": {
        "id": "ghabxGJOg98W"
      },
      "source": [
        "Vemos que conviene incorporar el enlace que va del 3 al 5 o del 3 al 6, ya que son los que maximizan d."
      ]
    },
    {
      "cell_type": "markdown",
      "metadata": {
        "id": "P1gYq4Fm0kWO"
      },
      "source": [
        "Veamos los resultados con ese enlace (y35):"
      ]
    },
    {
      "cell_type": "code",
      "execution_count": null,
      "metadata": {
        "colab": {
          "base_uri": "https://localhost:8080/",
          "height": 447
        },
        "id": "jN0YNwk_hIhj",
        "outputId": "ce8be3a2-2e49-46f1-c0b5-460d93753377"
      },
      "outputs": [
        {
          "output_type": "execute_result",
          "data": {
            "text/plain": [
              "[<matplotlib.lines.Line2D at 0x7f379057d420>]"
            ]
          },
          "metadata": {},
          "execution_count": 8
        },
        {
          "output_type": "display_data",
          "data": {
            "text/plain": [
              "<Figure size 640x480 with 1 Axes>"
            ],
            "image/png": "[encoded data removed]"
          },
          "metadata": {}
        }
      ],
      "source": [
        "x = cp.Variable(13)\n",
        "\n",
        "c = np.array([1.0 , 0.0 ,3.0, 0.0, 0.0, 0.0, 0.0, 0.0, 0.0, 0.0, 0.0, 0.0, 0.0])\n",
        "objective = cp.Minimize(c.T @ x)\n",
        "\n",
        "A = np.matrix([[1,0,0,0,0,0,-1,0,0,0,0,1,0],\n",
        "               [0,1,0,0,0,0,1,-1,0,0,0,0,0],\n",
        "               [0,0,1,0,0,0,0,1,-1,0,0,0,-1],\n",
        "               [0,0,0,1,0,0,0,0,1,-1,0,0,0],\n",
        "               [0,0,0,0,1,0,0,0,0,1,-1,0,1],\n",
        "               [0,0,0,0,0,1,0,0,0,0,1,-1,0]])\n",
        "\n",
        "ejex =[]\n",
        "ejey =[]\n",
        "\n",
        "for d0 in range(41):\n",
        "  d1 = 0\n",
        "  d2 = d3 = d4 = d5 = d6 = d0\n",
        "  b = np.array([d1, d2,d3,d4,d5,d6])\n",
        "  ytope = 60\n",
        "  constraints = [A @ x == b,\n",
        "               x[0] >= 0,\n",
        "               x[1] == 0,\n",
        "               x[2] >= 0,\n",
        "               x[3] == 0,\n",
        "               x[4] == 0,\n",
        "               x[5] == 0,\n",
        "               x[0] <= 100,\n",
        "\n",
        "               x[6] >= -ytope,\n",
        "               x[7] >= -ytope,\n",
        "               x[8] >= -ytope,\n",
        "               x[9] >= -ytope,\n",
        "               x[10] >= -ytope,\n",
        "               x[11] >= -ytope,\n",
        "               x[6] <= ytope,\n",
        "               x[7] <= ytope,\n",
        "               x[8] <= ytope,\n",
        "               x[9] <= ytope,\n",
        "               x[10] <= ytope,\n",
        "               x[11] <= ytope,\n",
        "\n",
        "               x[12] <= ytope,\n",
        "               x[12] >= -ytope\n",
        "               ]\n",
        "\n",
        "  prob = cp.Problem(objective, constraints)\n",
        "\n",
        "  result = prob.solve(solver = 'GLPK')\n",
        "  ejex.append(d0)\n",
        "  ejey.append(result)\n",
        "\n",
        "plt.plot(ejex, ejey)\n"
      ]
    }
  ],
  "metadata": {
    "colab": {
      "provenance": []
    },
    "kernelspec": {
      "display_name": "Python 3",
      "name": "python3"
    },
    "language_info": {
      "name": "python"
    }
  },
  "nbformat": 4,
  "nbformat_minor": 0
}